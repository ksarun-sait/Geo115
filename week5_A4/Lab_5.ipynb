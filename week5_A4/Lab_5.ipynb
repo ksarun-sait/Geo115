{
 "cells": [
  {
   "cell_type": "code",
   "execution_count": 1,
   "metadata": {},
   "outputs": [],
   "source": [
    "import arcpy "
   ]
  },
  {
   "cell_type": "code",
   "execution_count": 25,
   "metadata": {},
   "outputs": [
    {
     "name": "stdout",
     "output_type": "stream",
     "text": [
      "Field Names: ['FID', 'Shape', 'AREA', 'PERIMETER', 'ZONE_', 'ZONE_ID', 'ECOZONE', 'ZONE_NAME', 'ZONE_NOM']\n"
     ]
    }
   ],
   "source": [
    "# Set the workspace\n",
    "arcpy.env.workspace = \"C:/Users/ksaru/OneDrive/Desktop/Ghaffari/Geo115/week_5_A4/ecozone_shp/Ecozones\"\n",
    "\n",
    "# List the fields in the ecozone shapefile\n",
    "fields = arcpy.ListFields(\"ecozones.shp\")\n",
    "\n",
    "# Print the field names\n",
    "field_names = [field.name for field in fields]\n",
    "print(\"Field Names:\", field_names)"
   ]
  },
  {
   "cell_type": "code",
   "execution_count": 1,
   "metadata": {},
   "outputs": [
    {
     "ename": "RuntimeError",
     "evalue": "cannot open 'C:/Users/ksaru/OneDrive/Desktop/Ghaffari/Geo115/week_5_A4/ecozone_shp/Ecozones/ecozones.shp'",
     "output_type": "error",
     "traceback": [
      "\u001b[0;31m---------------------------------------------------------------------------\u001b[0m\n\u001b[0;31mRuntimeError\u001b[0m                              Traceback (most recent call last)",
      "In  \u001b[0;34m[1]\u001b[0m:\nLine \u001b[0;34m8\u001b[0m:     \u001b[34mwith\u001b[39;49;00m arcpy.da.SearchCursor(shapefile_path, [\u001b[33m\"\u001b[39;49;00m\u001b[33mZONE_NAME\u001b[39;49;00m\u001b[33m\"\u001b[39;49;00m, \u001b[33m\"\u001b[39;49;00m\u001b[33mZONE_ID\u001b[39;49;00m\u001b[33m\"\u001b[39;49;00m, \u001b[33m\"\u001b[39;49;00m\u001b[33mAREA\u001b[39;49;00m\u001b[33m\"\u001b[39;49;00m]) \u001b[34mas\u001b[39;49;00m cursor:\u001b[37m\u001b[39;49;00m\n",
      "\u001b[0;31mRuntimeError\u001b[0m: cannot open 'C:/Users/ksaru/OneDrive/Desktop/Ghaffari/Geo115/week_5_A4/ecozone_shp/Ecozones/ecozones.shp'\n\u001b[0;31m---------------------------------------------------------------------------\u001b[0m"
     ]
    }
   ],
   "source": [
    "# Path to your ecozones shapefile\n",
    "shapefile_path = \"C:/Users/ksaru/OneDrive/Desktop/Ghaffari/Geo115/week_5_A4/ecozone_shp/Ecozones/ecozones.shp\"\n",
    "\n",
    "# Initialize an empty dictionary\n",
    "ecozones = {}\n",
    "\n",
    "# Read the attribute table and extract relevant fields\n",
    "with arcpy.da.SearchCursor(shapefile_path, [\"ZONE_NAME\", \"ZONE_ID\", \"AREA\"]) as cursor:\n",
    "    for row in cursor:\n",
    "        zone_name, zone_id, area = row\n",
    "        ecozones[zone_name] = {\"ZONE_ID\": zone_id, \"AREA\": area}\n",
    "\n",
    "# Now 'ecozones' contains the desired information\n",
    "print(ecozones)\n"
   ]
  },
  {
   "cell_type": "code",
   "execution_count": 29,
   "metadata": {},
   "outputs": [
    {
     "name": "stdout",
     "output_type": "stream",
     "text": [
      "Buffer analysis complete. Output saved as ecozone_buffer.shp\n"
     ]
    }
   ],
   "source": [
    "import arcpy\n",
    "\n",
    "# Set the workspace\n",
    "arcpy.env.workspace = \"C:/Users/ksaru/OneDrive/Desktop/Ghaffari/Geo115/week_5_A4/ecozone_shp/Ecozones\"\n",
    "\n",
    "# Specify the ZONE_ID to create a buffer for\n",
    "zone_id = 1  # Change this to any ZONE_ID you want\n",
    "\n",
    "# Create a feature layer for the specific ZONE_ID\n",
    "arcpy.MakeFeatureLayer_management(\"ecozones.shp\", \"zone_layer\", f\"ZONE_ID = {zone_id}\")\n",
    "\n",
    "# Perform buffer analysis on the selected polygon\n",
    "output_fc = \"ecozone_buffer.shp\"\n",
    "arcpy.Buffer_analysis(\"zone_layer\", output_fc, \"100 Kilometers\")\n",
    "\n",
    "# Print a message indicating the buffer analysis is complete\n",
    "print(f\"Buffer analysis complete. Output saved as {output_fc}\")\n"
   ]
  },
  {
   "cell_type": "code",
   "execution_count": 36,
   "metadata": {},
   "outputs": [
    {
     "name": "stdout",
     "output_type": "stream",
     "text": [
      "Field 'STUDENT_NM' added and populated with Kalarikkal Sarun Sait in ecozones.shp\n"
     ]
    }
   ],
   "source": [
    "import arcpy\n",
    "\n",
    "# Set the workspace\n",
    "arcpy.env.workspace = \"C:/Users/ksaru/OneDrive/Desktop/Ghaffari/Geo115/week_5_A4/ecozone_shp/Ecozones\"\n",
    "\n",
    "# Add a new field to the ecozone feature class\n",
    "input_fc = \"ecozones.shp\"\n",
    "new_field_name = \"STUDENT_NM\"\n",
    "arcpy.AddField_management(input_fc, new_field_name, \"TEXT\")\n",
    "\n",
    "# Populate the new field with the student's full name\n",
    "student_name = \"Kalarikkal Sarun Sait\"  # Replace with your full name\n",
    "with arcpy.da.UpdateCursor(input_fc, [new_field_name]) as cursor:\n",
    "    for row in cursor:\n",
    "        row[0] = student_name\n",
    "        cursor.updateRow(row)\n",
    "\n",
    "# Print a message indicating the field has been added and populated\n",
    "print(f\"Field '{new_field_name}' added and populated with {student_name} in {input_fc}\")"
   ]
  },
  {
   "cell_type": "code",
   "execution_count": 37,
   "metadata": {},
   "outputs": [
    {
     "name": "stdout",
     "output_type": "stream",
     "text": [
      "Field Names: ['FID', 'Shape', 'AREA', 'PERIMETER', 'ZONE_', 'ZONE_ID', 'ECOZONE', 'ZONE_NAME', 'ZONE_NOM', 'STUDENT_A', 'STUDENT_NM']\n",
      "Ecozones Dictionary: {'Northern Arctic': {'ZONE_ID': 1.0, 'AREA': 756.53904}, 'Arctic Cordillera': {'ZONE_ID': 14.0, 'AREA': 7.53393}, 'Southern Arctic': {'ZONE_ID': 6.0, 'AREA': 300.76926}, 'Taiga Cordillera': {'ZONE_ID': 7.0, 'AREA': 50.9788}, 'Taiga Plain': {'ZONE_ID': 8.0, 'AREA': 118.55647}, 'Taiga Shield': {'ZONE_ID': 17.0, 'AREA': 115.4562}, 'Boreal Cordillera': {'ZONE_ID': 9.0, 'AREA': 77.11269}, 'Boreal PLain': {'ZONE_ID': 22.0, 'AREA': 0.20939}, 'Pacific Maritime': {'ZONE_ID': 18.0, 'AREA': 1.97253}, 'Boreal Shield': {'ZONE_ID': 19.0, 'AREA': 267.9649}, 'Hudson Plain': {'ZONE_ID': 20.0, 'AREA': 61.35808}, 'Montane Cordillera': {'ZONE_ID': 15.0, 'AREA': 65.38689}, 'Prairie': {'ZONE_ID': 21.0, 'AREA': 59.71671}, 'Atlantic Maritime': {'ZONE_ID': 24.0, 'AREA': 0.14229}, 'MixedWood Plain': {'ZONE_ID': 25.0, 'AREA': 19.139}}\n",
      "Buffer analysis complete. Output saved as ecozone_buffer.shp\n",
      "Field 'STUDENT_NM' added and populated with Kalarikkal Sarun Sait in ecozones.shp\n"
     ]
    }
   ],
   "source": [
    "# Importing ArcPy\n",
    "import arcpy\n",
    "\n",
    "# Task 1: Read the Ecozone Shapefile and List Field Names\n",
    "arcpy.env.workspace = \"C:/Users/ksaru/OneDrive/Desktop/Ghaffari/Geo115/week_5_A4/ecozone_shp/Ecozones\"\n",
    "fields = arcpy.ListFields(\"ecozones.shp\")\n",
    "field_names = [field.name for field in fields]\n",
    "print(\"Field Names:\", field_names)\n",
    "\n",
    "# Task 2: Create a Dictionary to Store Selected Information\n",
    "ecozones = {}\n",
    "with arcpy.da.SearchCursor(\"ecozones.shp\", [\"ZONE_NAME\", \"ZONE_ID\", \"AREA\"]) as cursor:\n",
    "    for row in cursor:\n",
    "        zone_name, zone_id, area = row\n",
    "        ecozones[zone_name] = {\"ZONE_ID\": zone_id, \"AREA\": area}\n",
    "        \n",
    "print(\"Ecozones Dictionary:\", ecozones)\n",
    "\n",
    "# Task 3: Create a Buffer for One Polygon by Given ZONE_ID\n",
    "zone_id = 1  # Change this to any ZONE_ID you want\n",
    "arcpy.MakeFeatureLayer_management(\"ecozones.shp\", \"zone_layer\", f\"ZONE_ID = {zone_id}\")\n",
    "output_fc = \"ecozone_buffer.shp\"\n",
    "arcpy.Buffer_analysis(\"zone_layer\", output_fc, \"100 Kilometers\")\n",
    "print(f\"Buffer analysis complete. Output saved as {output_fc}\")\n",
    "\n",
    "# Task 4: Add a New Field Using ArcPy\n",
    "input_fc = \"ecozones.shp\"\n",
    "new_field_name = \"STUDENT_NM\"\n",
    "arcpy.AddField_management(input_fc, new_field_name, \"TEXT\")\n",
    "student_name = \"Kalarikkal Sarun Sait\"  # Replace with your full name\n",
    "with arcpy.da.UpdateCursor(input_fc, [new_field_name]) as cursor:\n",
    "    for row in cursor:\n",
    "        row[0] = student_name\n",
    "        cursor.updateRow(row)\n",
    "print(f\"Field '{new_field_name}' added and populated with {student_name} in {input_fc}\")\n"
   ]
  },
  {
   "cell_type": "code",
   "execution_count": null,
   "metadata": {},
   "outputs": [],
   "source": []
  }
 ],
 "metadata": {
  "kernelspec": {
   "display_name": "ArcGISPro",
   "language": "Python",
   "name": "python3"
  },
  "language_info": {
   "file_extension": ".py",
   "name": "python",
   "version": "3"
  }
 },
 "nbformat": 4,
 "nbformat_minor": 2
}
