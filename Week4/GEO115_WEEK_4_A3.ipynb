{
 "cells": [
  {
   "cell_type": "code",
   "execution_count": 1,
   "id": "24a7f4e7-d843-4978-9aab-c5695beafdfd",
   "metadata": {},
   "outputs": [
    {
     "name": "stdout",
     "output_type": "stream",
     "text": [
      "Fruits: ['apple', 'cherry', 'orange']\n",
      "First fruit: apple\n"
     ]
    }
   ],
   "source": [
    "# Create a list of items\n",
    "fruits = [\"apple\", \"banana\", \"cherry\"]\n",
    "\n",
    "# Add an item to the list\n",
    "fruits.append(\"orange\")\n",
    "\n",
    "# Remove an item from the list\n",
    "fruits.remove(\"banana\")\n",
    "\n",
    "# Access elements by index\n",
    "first_fruit = fruits[0]\n",
    "\n",
    "# Print the updated list\n",
    "print(\"Fruits:\", fruits)\n",
    "print(\"First fruit:\", first_fruit)\n"
   ]
  },
  {
   "cell_type": "code",
   "execution_count": 2,
   "id": "9f147405-d809-4a0d-a884-de3e66b01455",
   "metadata": {},
   "outputs": [
    {
     "name": "stdout",
     "output_type": "stream",
     "text": [
      "Student: {'name': 'Alice', 'age': 22, 'major': 'Computer Science'}\n",
      "Student name: Alice\n"
     ]
    }
   ],
   "source": [
    "# Create a dictionary with key-value pairs\n",
    "student = {\"name\": \"Alice\", \"age\": 21, \"major\": \"Computer Science\"}\n",
    "\n",
    "# Update a value in the dictionary\n",
    "student[\"age\"] = 22\n",
    "\n",
    "# Access elements by key\n",
    "student_name = student[\"name\"]\n",
    "\n",
    "# Print the dictionary\n",
    "print(\"Student:\", student)\n",
    "print(\"Student name:\", student_name)\n"
   ]
  },
  {
   "cell_type": "code",
   "execution_count": 3,
   "id": "957a1ee1-ee34-499f-9dcf-9238f0f98499",
   "metadata": {},
   "outputs": [
    {
     "name": "stdout",
     "output_type": "stream",
     "text": [
      "Factorial: 120\n"
     ]
    }
   ],
   "source": [
    "# Define a function to calculate the factorial of a number\n",
    "def factorial(n):\n",
    "    if n == 0:\n",
    "        return 1\n",
    "    else:\n",
    "        return n * factorial(n-1)\n",
    "\n",
    "# Call the function with a sample number\n",
    "result = factorial(5)\n",
    "\n",
    "# Print the result\n",
    "print(\"Factorial:\", result)\n"
   ]
  },
  {
   "cell_type": "code",
   "execution_count": null,
   "id": "554d82da-096f-4310-8806-779a335d34f8",
   "metadata": {},
   "outputs": [],
   "source": []
  }
 ],
 "metadata": {
  "kernelspec": {
   "display_name": "Python 3 (ipykernel)",
   "language": "python",
   "name": "python3"
  },
  "language_info": {
   "codemirror_mode": {
    "name": "ipython",
    "version": 3
   },
   "file_extension": ".py",
   "mimetype": "text/x-python",
   "name": "python",
   "nbconvert_exporter": "python",
   "pygments_lexer": "ipython3",
   "version": "3.11.9"
  }
 },
 "nbformat": 4,
 "nbformat_minor": 5
}
